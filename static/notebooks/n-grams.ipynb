{
 "metadata": {
  "name": "",
  "signature": "sha256:ee346899825c7ab994f471c4eabc74d13ed32bd5a994b136d42e7e45153ae1f5"
 },
 "nbformat": 3,
 "nbformat_minor": 0,
 "worksheets": [
  {
   "cells": [
    {
     "cell_type": "markdown",
     "metadata": {},
     "source": [
      "# Iterators"
     ]
    },
    {
     "cell_type": "markdown",
     "metadata": {},
     "source": [
      "A concept of iteration over containers is very powerfull. Python defines a protocol how iteration is performed. To see it in action, let's get the ASCII letters and enumarate them.\n",
      "\n",
      "Press shift+enter to execute a cell."
     ]
    },
    {
     "cell_type": "code",
     "collapsed": false,
     "input": [
      "from string import lowercase"
     ],
     "language": "python",
     "metadata": {},
     "outputs": [],
     "prompt_number": 1
    },
    {
     "cell_type": "code",
     "collapsed": false,
     "input": [
      "lowercase"
     ],
     "language": "python",
     "metadata": {},
     "outputs": [
      {
       "metadata": {},
       "output_type": "pyout",
       "prompt_number": 2,
       "text": [
        "'abcdefghijklmnopqrstuvwxyz'"
       ]
      }
     ],
     "prompt_number": 2
    },
    {
     "cell_type": "markdown",
     "metadata": {},
     "source": [
      "``enumerate()`` enumerates a sequence of things. Appending ``?`` of ``??`` to a function, module or an object shows its help message."
     ]
    },
    {
     "cell_type": "code",
     "collapsed": false,
     "input": [
      "enumerate?"
     ],
     "language": "python",
     "metadata": {},
     "outputs": [],
     "prompt_number": 3
    },
    {
     "cell_type": "markdown",
     "metadata": {},
     "source": [
      "Create an iterator"
     ]
    },
    {
     "cell_type": "code",
     "collapsed": false,
     "input": [
      "enumerated_letters = enumerate(lowercase)"
     ],
     "language": "python",
     "metadata": {},
     "outputs": [],
     "prompt_number": 4
    },
    {
     "cell_type": "markdown",
     "metadata": {},
     "source": [
      "``next()`` returns the next value from an iterator, which in case of ``enumerate()`` are ``(index, value)`` pairs."
     ]
    },
    {
     "cell_type": "code",
     "collapsed": false,
     "input": [
      "next(enumerated_letters)"
     ],
     "language": "python",
     "metadata": {},
     "outputs": [
      {
       "metadata": {},
       "output_type": "pyout",
       "prompt_number": 5,
       "text": [
        "(0, 'a')"
       ]
      }
     ],
     "prompt_number": 5
    },
    {
     "cell_type": "code",
     "collapsed": false,
     "input": [
      "next(enumerated_letters)"
     ],
     "language": "python",
     "metadata": {},
     "outputs": [
      {
       "metadata": {},
       "output_type": "pyout",
       "prompt_number": 6,
       "text": [
        "(1, 'b')"
       ]
      }
     ],
     "prompt_number": 6
    },
    {
     "cell_type": "markdown",
     "metadata": {},
     "source": [
      "One way of accessing the values in a tuple is to assign all of them to variables"
     ]
    },
    {
     "cell_type": "code",
     "collapsed": false,
     "input": [
      "position, letter = next(enumerated_letters)"
     ],
     "language": "python",
     "metadata": {},
     "outputs": [],
     "prompt_number": 7
    },
    {
     "cell_type": "markdown",
     "metadata": {},
     "source": [
      "If we need to show something to a user which is a mix of text and data ``.format()`` is handy. Defining a string template with data placesholders and formating it with values avoid string concatenation using ``+``."
     ]
    },
    {
     "cell_type": "code",
     "collapsed": false,
     "input": [
      "'{letter} is enumerated as {position}'.format(letter=letter, position=position)"
     ],
     "language": "python",
     "metadata": {},
     "outputs": [
      {
       "metadata": {},
       "output_type": "pyout",
       "prompt_number": 8,
       "text": [
        "'c is enumerated as 2'"
       ]
      }
     ],
     "prompt_number": 8
    },
    {
     "cell_type": "markdown",
     "metadata": {},
     "source": [
      "In case a sequence of strings has to be joined use ``.join()``."
     ]
    },
    {
     "cell_type": "code",
     "collapsed": false,
     "input": [
      "print ', '.join('{l} is enumerated as {p}'.format(l=l, p=p) for p, l in enumerated_letters)"
     ],
     "language": "python",
     "metadata": {},
     "outputs": [
      {
       "output_type": "stream",
       "stream": "stdout",
       "text": [
        "d is enumerated as 3, e is enumerated as 4, f is enumerated as 5, g is enumerated as 6, h is enumerated as 7, i is enumerated as 8, j is enumerated as 9, k is enumerated as 10, l is enumerated as 11, m is enumerated as 12, n is enumerated as 13, o is enumerated as 14, p is enumerated as 15, q is enumerated as 16, r is enumerated as 17, s is enumerated as 18, t is enumerated as 19, u is enumerated as 20, v is enumerated as 21, w is enumerated as 22, x is enumerated as 23, y is enumerated as 24, z is enumerated as 25\n"
       ]
      }
     ],
     "prompt_number": 9
    },
    {
     "cell_type": "markdown",
     "metadata": {},
     "source": [
      "Once an iterator is exhausted, a ``StopIteration`` exception is raised. However, it's possible to have infinite iterators."
     ]
    },
    {
     "cell_type": "code",
     "collapsed": false,
     "input": [
      "next(enumerated_letters)"
     ],
     "language": "python",
     "metadata": {},
     "outputs": [
      {
       "ename": "StopIteration",
       "evalue": "",
       "output_type": "pyerr",
       "traceback": [
        "\u001b[0;31m---------------------------------------------------------------------------\u001b[0m\n\u001b[0;31mStopIteration\u001b[0m                             Traceback (most recent call last)",
        "\u001b[0;32m<ipython-input-10-6592de41862c>\u001b[0m in \u001b[0;36m<module>\u001b[0;34m()\u001b[0m\n\u001b[0;32m----> 1\u001b[0;31m \u001b[0mnext\u001b[0m\u001b[0;34m(\u001b[0m\u001b[0menumerated_letters\u001b[0m\u001b[0;34m)\u001b[0m\u001b[0;34m\u001b[0m\u001b[0m\n\u001b[0m",
        "\u001b[0;31mStopIteration\u001b[0m: "
       ]
      }
     ],
     "prompt_number": 10
    },
    {
     "cell_type": "markdown",
     "metadata": {},
     "source": [
      "# Bigrams\n",
      "\n",
      "Given a sequence of words (or an iterable), ``bigrams()`` returns (yields) its bigrams. Here is another way of defining an iterator (actually a generator):"
     ]
    },
    {
     "cell_type": "code",
     "collapsed": false,
     "input": [
      "from itertools import chain\n",
      "\n",
      "\n",
      "def bigrams(words):\n",
      "    \"\"\"Bigram generated from a seuence of words.\n",
      "    \n",
      "    :param iter words: the sequence of words\n",
      "    :returns: adjacent word pairs\n",
      "    \n",
      "    \"\"\"\n",
      "    # In the very beginning, ther is no previous word,\n",
      "    # but we start with a bigram (None, words[0]) to\n",
      "    # indicate that words[0] has been seen in the beginning\n",
      "    # of the text.\n",
      "    previous = None\n",
      "    \n",
      "    # We also need to append None to the end of the text.\n",
      "    # itertools.chain chains iterables togetner\n",
      "    # (yes, a list in this regard is an iterable, as a\n",
      "    # string is and many other things.\n",
      "    for word in chain(words, [None]):\n",
      "        # A bigram is a previous word and the current word.\n",
      "        # yield is used to pause an iterator, \"return\" a value\n",
      "        # to the caller code and restore callers execution.\n",
      "        yield previous, word\n",
      "        \n",
      "        previous = word\n",
      "        "
     ],
     "language": "python",
     "metadata": {},
     "outputs": [],
     "prompt_number": 11
    },
    {
     "cell_type": "markdown",
     "metadata": {},
     "source": [
      "Check wheter it works. Note that we don't actually care wheter words is a seuence of strings, it might be a seuence of anything."
     ]
    },
    {
     "cell_type": "code",
     "collapsed": false,
     "input": [
      "list(bigrams([1, 2, 3, 4]))"
     ],
     "language": "python",
     "metadata": {},
     "outputs": [
      {
       "metadata": {},
       "output_type": "pyout",
       "prompt_number": 12,
       "text": [
        "[(None, 1), (1, 2), (2, 3), (3, 4), (4, None)]"
       ]
      }
     ],
     "prompt_number": 12
    },
    {
     "cell_type": "markdown",
     "metadata": {},
     "source": [
      "# N-grams\n",
      "\n",
      "It would be cool to have a general generator for n-grams."
     ]
    },
    {
     "cell_type": "code",
     "collapsed": false,
     "input": [
      "from collections import deque\n",
      "\n",
      "\n",
      "def ngrams(words, ngram_len=2):\n",
      "    \"\"\"Generate ngrmas from a sequence of word.\n",
      "    \n",
      "    :param iter words: the sequence of words\n",
      "    :param int ngram_len: the lenght of the ngrams to be generated\n",
      "    \n",
      "    :returns: ngrams\n",
      "    \n",
      "    \"\"\"\n",
      "    # collecions.deque might be seen as a list of limited size.\n",
      "    # If an element apended when a deque is full, the elements\n",
      "    # from the other side of the deque is removed keeping the\n",
      "    # constant length of the deque.\n",
      "    #\n",
      "    # Addend dummy tokens marking the beginning of the sequence.\n",
      "    ngram = deque([None] * ngram_len, maxlen=ngram_len)\n",
      "    \n",
      "    for word in chain(words, [None] * (ngram_len - 1)):\n",
      "        ngram.append(word)\n",
      "        yield tuple(ngram)"
     ],
     "language": "python",
     "metadata": {},
     "outputs": [],
     "prompt_number": 13
    },
    {
     "cell_type": "code",
     "collapsed": false,
     "input": [
      "list(ngrams('abcd', ngram_len=3))"
     ],
     "language": "python",
     "metadata": {},
     "outputs": [
      {
       "metadata": {},
       "output_type": "pyout",
       "prompt_number": 14,
       "text": [
        "[(None, None, 'a'),\n",
        " (None, 'a', 'b'),\n",
        " ('a', 'b', 'c'),\n",
        " ('b', 'c', 'd'),\n",
        " ('c', 'd', None),\n",
        " ('d', None, None)]"
       ]
      }
     ],
     "prompt_number": 14
    },
    {
     "cell_type": "markdown",
     "metadata": {},
     "source": [
      "# Read a file word by word\n",
      "\n",
      "We have a generator that produces ngrmas, but we are not able to get a sequence of words from a corpus, which so far is just a text file."
     ]
    },
    {
     "cell_type": "code",
     "collapsed": false,
     "input": [
      "def read_words(f_name):\n",
      "    \"\"\"Read a file word by word.\"\"\"\n",
      "    with open(f_name) as f:\n",
      "        for line in f:\n",
      "            line.strip()\n",
      "            \n",
      "            # Tokenization is a difficult task,\n",
      "            # a word is anythin between two spaces.\n",
      "            for word in line.split():\n",
      "                yield word\n"
     ],
     "language": "python",
     "metadata": {},
     "outputs": [],
     "prompt_number": 15
    },
    {
     "cell_type": "markdown",
     "metadata": {},
     "source": [
      "Let's use  Alice's Adventures in Wonderland by Lewis Carroll as a corpus.\n",
      "\n",
      "Some other books are:\n",
      "\n",
      "* War and Peace by graf Leo Tolstoy http://eecs.io/static/notebooks/pg2600.txt 566,316 words\n",
      "* Crime and Punishment by Fyodor Dostoyevsky http://eecs.io/static/notebooks/pg2554.txt 206,528 words\n",
      "* Alice's Adventures in Wonderland by Lewis Carroll http://eecs.io/static/notebooks/pg11.txt 29,461 words\n",
      "* Clarissa Harlowe; or the history of a young lady \u2014 Volume 1 by Samuel Richardson http://eecs.io/static/notebooks/pg9296.txt 109,997 words\n",
      "* Clarissa Harlowe; or the history of a young lady \u2014 Volume 2 by Samuel Richardson http://eecs.io/static/notebooks/pg9798.txt 110,407 words\n",
      "* Clarissa Harlowe; or the history of a young lady \u2014 Volume 3 by Samuel Richardson http://eecs.io/static/notebooks/pg9881.txt 109,620 words\n",
      "\n",
      "We download it from the Internet ..."
     ]
    },
    {
     "cell_type": "code",
     "collapsed": false,
     "input": [
      "from urllib import urlretrieve\n",
      "\n",
      "\n",
      "f_name, _ = urlretrieve('http://eecs.io/static/notebooks/pg11.txt')"
     ],
     "language": "python",
     "metadata": {},
     "outputs": [],
     "prompt_number": 16
    },
    {
     "cell_type": "markdown",
     "metadata": {},
     "source": [
      "... and store it somewhere"
     ]
    },
    {
     "cell_type": "code",
     "collapsed": false,
     "input": [
      "f_name"
     ],
     "language": "python",
     "metadata": {},
     "outputs": [
      {
       "metadata": {},
       "output_type": "pyout",
       "prompt_number": 17,
       "text": [
        "'/var/folders/j5/m6pcb_9n6c1gqssrbtzmdmcc0000gn/T/tmp0LsuU_.txt'"
       ]
      }
     ],
     "prompt_number": 17
    },
    {
     "cell_type": "markdown",
     "metadata": {},
     "source": [
      "Now we are ready to get a sequence of words from the corpus. It's too big to be shown here, so ony 10 words are shown."
     ]
    },
    {
     "cell_type": "code",
     "collapsed": false,
     "input": [
      "from itertools import islice\n",
      "\n",
      "\n",
      "print ' '.join(islice(read_words(f_name), 10))"
     ],
     "language": "python",
     "metadata": {},
     "outputs": [
      {
       "output_type": "stream",
       "stream": "stdout",
       "text": [
        "\ufeffProject Gutenberg's Alice's Adventures in Wonderland, by Lewis Carroll This\n"
       ]
      }
     ],
     "prompt_number": 18
    },
    {
     "cell_type": "markdown",
     "metadata": {},
     "source": [
      "We can chain iterators as processing block of the information flow."
     ]
    },
    {
     "cell_type": "code",
     "collapsed": false,
     "input": [
      "for w1, w2 in islice(bigrams(read_words(f_name)), 10):\n",
      "    print w1, w2"
     ],
     "language": "python",
     "metadata": {},
     "outputs": [
      {
       "output_type": "stream",
       "stream": "stdout",
       "text": [
        "None \ufeffProject\n",
        "\ufeffProject Gutenberg's\n",
        "Gutenberg's Alice's\n",
        "Alice's Adventures\n",
        "Adventures in\n",
        "in Wonderland,\n",
        "Wonderland, by\n",
        "by Lewis\n",
        "Lewis Carroll\n",
        "Carroll This\n"
       ]
      }
     ],
     "prompt_number": 19
    },
    {
     "cell_type": "markdown",
     "metadata": {},
     "source": [
      "## Task: clean up the words\n",
      "\n",
      "Even though ```read_words()``` tokenizaion is very simple, we can filter out non letters. Lowercase words might be a good idea as well."
     ]
    },
    {
     "cell_type": "code",
     "collapsed": false,
     "input": [
      "def clean_words(words):\n",
      "    for word in words:\n",
      "        yield word.lower()"
     ],
     "language": "python",
     "metadata": {},
     "outputs": [],
     "prompt_number": 20
    },
    {
     "cell_type": "markdown",
     "metadata": {},
     "source": [
      "# Counting ngrams\n",
      "\n",
      "It would be cool if we managed to pump the bigrams to a database. Then counting elements would be a metter of seconds (given that you know SQL. Luckily, there is Pandas which let process data frames (tables) the way we want http://pandas.pydata.org/pandas-docs/stable/groupby.html."
     ]
    },
    {
     "cell_type": "code",
     "collapsed": false,
     "input": [
      "import pandas as pd"
     ],
     "language": "python",
     "metadata": {},
     "outputs": [],
     "prompt_number": 21
    },
    {
     "cell_type": "code",
     "collapsed": false,
     "input": [
      "pd.DataFrame?"
     ],
     "language": "python",
     "metadata": {},
     "outputs": [],
     "prompt_number": 22
    },
    {
     "cell_type": "code",
     "collapsed": false,
     "input": [
      "bigram_frame = pd.DataFrame(ngrams(clean_words(read_words(f_name)), ngram_len=2), columns=('Word 1', 'Word 2'))"
     ],
     "language": "python",
     "metadata": {},
     "outputs": [],
     "prompt_number": 23
    },
    {
     "cell_type": "code",
     "collapsed": false,
     "input": [
      "bigram_frame.head()"
     ],
     "language": "python",
     "metadata": {},
     "outputs": [
      {
       "html": [
        "<div style=\"max-height:1000px;max-width:1500px;overflow:auto;\">\n",
        "<table border=\"1\" class=\"dataframe\">\n",
        "  <thead>\n",
        "    <tr style=\"text-align: right;\">\n",
        "      <th></th>\n",
        "      <th>Word 1</th>\n",
        "      <th>Word 2</th>\n",
        "    </tr>\n",
        "  </thead>\n",
        "  <tbody>\n",
        "    <tr>\n",
        "      <th>0</th>\n",
        "      <td>        None</td>\n",
        "      <td>    \ufeffproject</td>\n",
        "    </tr>\n",
        "    <tr>\n",
        "      <th>1</th>\n",
        "      <td>    \ufeffproject</td>\n",
        "      <td> gutenberg's</td>\n",
        "    </tr>\n",
        "    <tr>\n",
        "      <th>2</th>\n",
        "      <td> gutenberg's</td>\n",
        "      <td>     alice's</td>\n",
        "    </tr>\n",
        "    <tr>\n",
        "      <th>3</th>\n",
        "      <td>     alice's</td>\n",
        "      <td>  adventures</td>\n",
        "    </tr>\n",
        "    <tr>\n",
        "      <th>4</th>\n",
        "      <td>  adventures</td>\n",
        "      <td>          in</td>\n",
        "    </tr>\n",
        "  </tbody>\n",
        "</table>\n",
        "</div>"
       ],
       "metadata": {},
       "output_type": "pyout",
       "prompt_number": 24,
       "text": [
        "        Word 1       Word 2\n",
        "0         None     \ufeffproject\n",
        "1     \ufeffproject  gutenberg's\n",
        "2  gutenberg's      alice's\n",
        "3      alice's   adventures\n",
        "4   adventures           in"
       ]
      }
     ],
     "prompt_number": 24
    },
    {
     "cell_type": "markdown",
     "metadata": {},
     "source": [
      "Count unique bigrams"
     ]
    },
    {
     "cell_type": "code",
     "collapsed": false,
     "input": [
      "bigram_frame['count'] = 1  # Create a new column"
     ],
     "language": "python",
     "metadata": {},
     "outputs": [],
     "prompt_number": 25
    },
    {
     "cell_type": "code",
     "collapsed": false,
     "input": [
      "bigram_counts = bigram_frame.groupby(('Word 1', 'Word 2')).sum()"
     ],
     "language": "python",
     "metadata": {},
     "outputs": [],
     "prompt_number": 26
    },
    {
     "cell_type": "code",
     "collapsed": false,
     "input": [
      "bigram_counts.sort('count', ascending=False, inplace=True)"
     ],
     "language": "python",
     "metadata": {},
     "outputs": [],
     "prompt_number": 27
    },
    {
     "cell_type": "code",
     "collapsed": false,
     "input": [
      "bigram_counts.head()"
     ],
     "language": "python",
     "metadata": {},
     "outputs": [
      {
       "html": [
        "<div style=\"max-height:1000px;max-width:1500px;overflow:auto;\">\n",
        "<table border=\"1\" class=\"dataframe\">\n",
        "  <thead>\n",
        "    <tr style=\"text-align: right;\">\n",
        "      <th></th>\n",
        "      <th></th>\n",
        "      <th>count</th>\n",
        "    </tr>\n",
        "    <tr>\n",
        "      <th>Word 1</th>\n",
        "      <th>Word 2</th>\n",
        "      <th></th>\n",
        "    </tr>\n",
        "  </thead>\n",
        "  <tbody>\n",
        "    <tr>\n",
        "      <th>said</th>\n",
        "      <th>the</th>\n",
        "      <td> 207</td>\n",
        "    </tr>\n",
        "    <tr>\n",
        "      <th>of</th>\n",
        "      <th>the</th>\n",
        "      <td> 154</td>\n",
        "    </tr>\n",
        "    <tr>\n",
        "      <th rowspan=\"2\" valign=\"top\">in</th>\n",
        "      <th>a</th>\n",
        "      <td> 101</td>\n",
        "    </tr>\n",
        "    <tr>\n",
        "      <th>the</th>\n",
        "      <td>  92</td>\n",
        "    </tr>\n",
        "    <tr>\n",
        "      <th>to</th>\n",
        "      <th>the</th>\n",
        "      <td>  84</td>\n",
        "    </tr>\n",
        "  </tbody>\n",
        "</table>\n",
        "</div>"
       ],
       "metadata": {},
       "output_type": "pyout",
       "prompt_number": 28,
       "text": [
        "               count\n",
        "Word 1 Word 2       \n",
        "said   the       207\n",
        "of     the       154\n",
        "in     a         101\n",
        "       the        92\n",
        "to     the        84"
       ]
      }
     ],
     "prompt_number": 28
    },
    {
     "cell_type": "markdown",
     "metadata": {},
     "source": [
      "# Dictionary size"
     ]
    },
    {
     "cell_type": "code",
     "collapsed": false,
     "input": [
      "dictionary = pd.DataFrame(clean_words(read_words(f_name)), columns=('Word', ))"
     ],
     "language": "python",
     "metadata": {},
     "outputs": [],
     "prompt_number": 29
    },
    {
     "cell_type": "code",
     "collapsed": false,
     "input": [
      "dictionary['count'] = 1"
     ],
     "language": "python",
     "metadata": {},
     "outputs": [],
     "prompt_number": 30
    },
    {
     "cell_type": "code",
     "collapsed": false,
     "input": [
      "dictionary = dictionary.groupby('Word').sum().sort('count', ascending=False)"
     ],
     "language": "python",
     "metadata": {},
     "outputs": [],
     "prompt_number": 31
    },
    {
     "cell_type": "code",
     "collapsed": false,
     "input": [
      "len(dictionary)"
     ],
     "language": "python",
     "metadata": {},
     "outputs": [
      {
       "metadata": {},
       "output_type": "pyout",
       "prompt_number": 32,
       "text": [
        "5581"
       ]
      }
     ],
     "prompt_number": 32
    },
    {
     "cell_type": "code",
     "collapsed": false,
     "input": [
      "dictionary.head()"
     ],
     "language": "python",
     "metadata": {},
     "outputs": [
      {
       "html": [
        "<div style=\"max-height:1000px;max-width:1500px;overflow:auto;\">\n",
        "<table border=\"1\" class=\"dataframe\">\n",
        "  <thead>\n",
        "    <tr style=\"text-align: right;\">\n",
        "      <th></th>\n",
        "      <th>count</th>\n",
        "    </tr>\n",
        "    <tr>\n",
        "      <th>Word</th>\n",
        "      <th></th>\n",
        "    </tr>\n",
        "  </thead>\n",
        "  <tbody>\n",
        "    <tr>\n",
        "      <th>the</th>\n",
        "      <td> 1777</td>\n",
        "    </tr>\n",
        "    <tr>\n",
        "      <th>and</th>\n",
        "      <td>  833</td>\n",
        "    </tr>\n",
        "    <tr>\n",
        "      <th>to</th>\n",
        "      <td>  782</td>\n",
        "    </tr>\n",
        "    <tr>\n",
        "      <th>a</th>\n",
        "      <td>  670</td>\n",
        "    </tr>\n",
        "    <tr>\n",
        "      <th>of</th>\n",
        "      <td>  610</td>\n",
        "    </tr>\n",
        "  </tbody>\n",
        "</table>\n",
        "</div>"
       ],
       "metadata": {},
       "output_type": "pyout",
       "prompt_number": 33,
       "text": [
        "      count\n",
        "Word       \n",
        "the    1777\n",
        "and     833\n",
        "to      782\n",
        "a       670\n",
        "of      610"
       ]
      }
     ],
     "prompt_number": 33
    },
    {
     "cell_type": "code",
     "collapsed": false,
     "input": [
      "dictionary.plot().loglog()  # Check out Seaborn http://web.stanford.edu/~mwaskom/software/seaborn/ to get nicer plots."
     ],
     "language": "python",
     "metadata": {},
     "outputs": [
      {
       "metadata": {},
       "output_type": "pyout",
       "prompt_number": 44,
       "text": [
        "[]"
       ]
      },
      {
       "metadata": {},
       "output_type": "display_data",
       "png": "[encoded data removed]",
       "text": [
        "<matplotlib.figure.Figure at 0x115f79190>"
       ]
      }
     ],
     "prompt_number": 44
    },
    {
     "cell_type": "markdown",
     "metadata": {},
     "source": [
      "# Count bigrams that were seen more than n times"
     ]
    },
    {
     "cell_type": "code",
     "collapsed": false,
     "input": [
      "len(bigram_counts[bigram_counts['count'] > 5])"
     ],
     "language": "python",
     "metadata": {},
     "outputs": [
      {
       "metadata": {},
       "output_type": "pyout",
       "prompt_number": 35,
       "text": [
        "498"
       ]
      }
     ],
     "prompt_number": 35
    },
    {
     "cell_type": "code",
     "collapsed": false,
     "input": [
      "len(bigram_counts[bigram_counts['count'] > 4])"
     ],
     "language": "python",
     "metadata": {},
     "outputs": [
      {
       "metadata": {},
       "output_type": "pyout",
       "prompt_number": 36,
       "text": [
        "672"
       ]
      }
     ],
     "prompt_number": 36
    },
    {
     "cell_type": "markdown",
     "metadata": {},
     "source": [
      "# Joint probability"
     ]
    },
    {
     "cell_type": "code",
     "collapsed": false,
     "input": [
      "bigram_counts['Joint probability'] = bigram_counts['count'] / bigram_counts['count'].sum()"
     ],
     "language": "python",
     "metadata": {},
     "outputs": [],
     "prompt_number": 37
    },
    {
     "cell_type": "code",
     "collapsed": false,
     "input": [
      "bigram_counts.head()"
     ],
     "language": "python",
     "metadata": {},
     "outputs": [
      {
       "html": [
        "<div style=\"max-height:1000px;max-width:1500px;overflow:auto;\">\n",
        "<table border=\"1\" class=\"dataframe\">\n",
        "  <thead>\n",
        "    <tr style=\"text-align: right;\">\n",
        "      <th></th>\n",
        "      <th></th>\n",
        "      <th>count</th>\n",
        "      <th>Joint probability</th>\n",
        "    </tr>\n",
        "    <tr>\n",
        "      <th>Word 1</th>\n",
        "      <th>Word 2</th>\n",
        "      <th></th>\n",
        "      <th></th>\n",
        "    </tr>\n",
        "  </thead>\n",
        "  <tbody>\n",
        "    <tr>\n",
        "      <th>said</th>\n",
        "      <th>the</th>\n",
        "      <td> 207</td>\n",
        "      <td> 0.007026</td>\n",
        "    </tr>\n",
        "    <tr>\n",
        "      <th>of</th>\n",
        "      <th>the</th>\n",
        "      <td> 154</td>\n",
        "      <td> 0.005227</td>\n",
        "    </tr>\n",
        "    <tr>\n",
        "      <th rowspan=\"2\" valign=\"top\">in</th>\n",
        "      <th>a</th>\n",
        "      <td> 101</td>\n",
        "      <td> 0.003428</td>\n",
        "    </tr>\n",
        "    <tr>\n",
        "      <th>the</th>\n",
        "      <td>  92</td>\n",
        "      <td> 0.003123</td>\n",
        "    </tr>\n",
        "    <tr>\n",
        "      <th>to</th>\n",
        "      <th>the</th>\n",
        "      <td>  84</td>\n",
        "      <td> 0.002851</td>\n",
        "    </tr>\n",
        "  </tbody>\n",
        "</table>\n",
        "</div>"
       ],
       "metadata": {},
       "output_type": "pyout",
       "prompt_number": 38,
       "text": [
        "               count  Joint probability\n",
        "Word 1 Word 2                          \n",
        "said   the       207           0.007026\n",
        "of     the       154           0.005227\n",
        "in     a         101           0.003428\n",
        "       the        92           0.003123\n",
        "to     the        84           0.002851"
       ]
      }
     ],
     "prompt_number": 38
    },
    {
     "cell_type": "code",
     "collapsed": false,
     "input": [
      "bigram_counts.loc['to'].head()"
     ],
     "language": "python",
     "metadata": {},
     "outputs": [
      {
       "html": [
        "<div style=\"max-height:1000px;max-width:1500px;overflow:auto;\">\n",
        "<table border=\"1\" class=\"dataframe\">\n",
        "  <thead>\n",
        "    <tr style=\"text-align: right;\">\n",
        "      <th></th>\n",
        "      <th>count</th>\n",
        "      <th>Joint probability</th>\n",
        "    </tr>\n",
        "    <tr>\n",
        "      <th>Word 2</th>\n",
        "      <th></th>\n",
        "      <th></th>\n",
        "    </tr>\n",
        "  </thead>\n",
        "  <tbody>\n",
        "    <tr>\n",
        "      <th>the</th>\n",
        "      <td> 84</td>\n",
        "      <td> 0.002851</td>\n",
        "    </tr>\n",
        "    <tr>\n",
        "      <th>be</th>\n",
        "      <td> 49</td>\n",
        "      <td> 0.001663</td>\n",
        "    </tr>\n",
        "    <tr>\n",
        "      <th>herself,</th>\n",
        "      <td> 25</td>\n",
        "      <td> 0.000849</td>\n",
        "    </tr>\n",
        "    <tr>\n",
        "      <th>see</th>\n",
        "      <td> 23</td>\n",
        "      <td> 0.000781</td>\n",
        "    </tr>\n",
        "    <tr>\n",
        "      <th>get</th>\n",
        "      <td> 18</td>\n",
        "      <td> 0.000611</td>\n",
        "    </tr>\n",
        "  </tbody>\n",
        "</table>\n",
        "</div>"
       ],
       "metadata": {},
       "output_type": "pyout",
       "prompt_number": 39,
       "text": [
        "          count  Joint probability\n",
        "Word 2                            \n",
        "the          84           0.002851\n",
        "be           49           0.001663\n",
        "herself,     25           0.000849\n",
        "see          23           0.000781\n",
        "get          18           0.000611"
       ]
      }
     ],
     "prompt_number": 39
    },
    {
     "cell_type": "markdown",
     "metadata": {},
     "source": [
      "# Condiitonal probability"
     ]
    },
    {
     "cell_type": "code",
     "collapsed": false,
     "input": [
      "bigram_counts.head()"
     ],
     "language": "python",
     "metadata": {},
     "outputs": [
      {
       "html": [
        "<div style=\"max-height:1000px;max-width:1500px;overflow:auto;\">\n",
        "<table border=\"1\" class=\"dataframe\">\n",
        "  <thead>\n",
        "    <tr style=\"text-align: right;\">\n",
        "      <th></th>\n",
        "      <th></th>\n",
        "      <th>count</th>\n",
        "      <th>Joint probability</th>\n",
        "    </tr>\n",
        "    <tr>\n",
        "      <th>Word 1</th>\n",
        "      <th>Word 2</th>\n",
        "      <th></th>\n",
        "      <th></th>\n",
        "    </tr>\n",
        "  </thead>\n",
        "  <tbody>\n",
        "    <tr>\n",
        "      <th>said</th>\n",
        "      <th>the</th>\n",
        "      <td> 207</td>\n",
        "      <td> 0.007026</td>\n",
        "    </tr>\n",
        "    <tr>\n",
        "      <th>of</th>\n",
        "      <th>the</th>\n",
        "      <td> 154</td>\n",
        "      <td> 0.005227</td>\n",
        "    </tr>\n",
        "    <tr>\n",
        "      <th rowspan=\"2\" valign=\"top\">in</th>\n",
        "      <th>a</th>\n",
        "      <td> 101</td>\n",
        "      <td> 0.003428</td>\n",
        "    </tr>\n",
        "    <tr>\n",
        "      <th>the</th>\n",
        "      <td>  92</td>\n",
        "      <td> 0.003123</td>\n",
        "    </tr>\n",
        "    <tr>\n",
        "      <th>to</th>\n",
        "      <th>the</th>\n",
        "      <td>  84</td>\n",
        "      <td> 0.002851</td>\n",
        "    </tr>\n",
        "  </tbody>\n",
        "</table>\n",
        "</div>"
       ],
       "metadata": {},
       "output_type": "pyout",
       "prompt_number": 40,
       "text": [
        "               count  Joint probability\n",
        "Word 1 Word 2                          \n",
        "said   the       207           0.007026\n",
        "of     the       154           0.005227\n",
        "in     a         101           0.003428\n",
        "       the        92           0.003123\n",
        "to     the        84           0.002851"
       ]
      }
     ],
     "prompt_number": 40
    },
    {
     "cell_type": "code",
     "collapsed": false,
     "input": [
      "bigram_counts['Word 1 count'] = dictionary.loc[bigram_counts.index.get_level_values('Word 1')]['count'].values"
     ],
     "language": "python",
     "metadata": {},
     "outputs": [],
     "prompt_number": 41
    },
    {
     "cell_type": "code",
     "collapsed": false,
     "input": [
      "bigram_counts['Conditional probability'] = bigram_counts['count'] / bigram_counts['Word 1 count']"
     ],
     "language": "python",
     "metadata": {},
     "outputs": [],
     "prompt_number": 42
    },
    {
     "cell_type": "code",
     "collapsed": false,
     "input": [
      "bigram_counts.loc['she'].sort('Conditional probability', ascending=False).head()"
     ],
     "language": "python",
     "metadata": {},
     "outputs": [
      {
       "html": [
        "<div style=\"max-height:1000px;max-width:1500px;overflow:auto;\">\n",
        "<table border=\"1\" class=\"dataframe\">\n",
        "  <thead>\n",
        "    <tr style=\"text-align: right;\">\n",
        "      <th></th>\n",
        "      <th>count</th>\n",
        "      <th>Joint probability</th>\n",
        "      <th>Word 1 count</th>\n",
        "      <th>Conditional probability</th>\n",
        "    </tr>\n",
        "    <tr>\n",
        "      <th>Word 2</th>\n",
        "      <th></th>\n",
        "      <th></th>\n",
        "      <th></th>\n",
        "      <th></th>\n",
        "    </tr>\n",
        "  </thead>\n",
        "  <tbody>\n",
        "    <tr>\n",
        "      <th>had</th>\n",
        "      <td> 57</td>\n",
        "      <td> 0.001935</td>\n",
        "      <td> 518</td>\n",
        "      <td> 0.110039</td>\n",
        "    </tr>\n",
        "    <tr>\n",
        "      <th>was</th>\n",
        "      <td> 51</td>\n",
        "      <td> 0.001731</td>\n",
        "      <td> 518</td>\n",
        "      <td> 0.098456</td>\n",
        "    </tr>\n",
        "    <tr>\n",
        "      <th>said</th>\n",
        "      <td> 28</td>\n",
        "      <td> 0.000950</td>\n",
        "      <td> 518</td>\n",
        "      <td> 0.054054</td>\n",
        "    </tr>\n",
        "    <tr>\n",
        "      <th>went</th>\n",
        "      <td> 28</td>\n",
        "      <td> 0.000950</td>\n",
        "      <td> 518</td>\n",
        "      <td> 0.054054</td>\n",
        "    </tr>\n",
        "    <tr>\n",
        "      <th>could</th>\n",
        "      <td> 19</td>\n",
        "      <td> 0.000645</td>\n",
        "      <td> 518</td>\n",
        "      <td> 0.036680</td>\n",
        "    </tr>\n",
        "  </tbody>\n",
        "</table>\n",
        "</div>"
       ],
       "metadata": {},
       "output_type": "pyout",
       "prompt_number": 43,
       "text": [
        "        count  Joint probability  Word 1 count  Conditional probability\n",
        "Word 2                                                                 \n",
        "had        57           0.001935           518                 0.110039\n",
        "was        51           0.001731           518                 0.098456\n",
        "said       28           0.000950           518                 0.054054\n",
        "went       28           0.000950           518                 0.054054\n",
        "could      19           0.000645           518                 0.036680"
       ]
      }
     ],
     "prompt_number": 43
    },
    {
     "cell_type": "markdown",
     "metadata": {},
     "source": [
      "# Model evaluation"
     ]
    },
    {
     "cell_type": "markdown",
     "metadata": {},
     "source": [
      "Get two corpora drawen from a different domain (for example, Russian classics, and novels about Clarissa), and divide each to a training and a test set. Build language models based on the training data for each domain. Then calcualte the corss-entropy figures for the test sets using both the language model trained on that domain, and the other language model. How much do the cross-entropy estimates differ?\n",
      "\n",
      "`This is Exercise 6.8 from Manning, Christopher D. \"Foundations of statistical natural language processing\". Ed. Hinrich Sch\u00fctze. MIT press, 1999.`"
     ]
    },
    {
     "cell_type": "code",
     "collapsed": false,
     "input": [],
     "language": "python",
     "metadata": {},
     "outputs": []
    },
    {
     "cell_type": "markdown",
     "metadata": {},
     "source": [
      "Experiment with different tokenisation methods. Try to implement the experiments in such a way that it is easy to\n",
      "\n",
      "* add new models\n",
      "* vary model parameters\n"
     ]
    },
    {
     "cell_type": "code",
     "collapsed": false,
     "input": [],
     "language": "python",
     "metadata": {},
     "outputs": []
    }
   ],
   "metadata": {}
  }
 ]
}