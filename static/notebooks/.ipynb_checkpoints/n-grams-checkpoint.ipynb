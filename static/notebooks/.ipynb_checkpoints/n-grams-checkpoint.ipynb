{
 "metadata": {
  "name": "",
  "signature": "sha256:445f8279eabe777fa8f58bf5927ae98fd85e10fbc898dad496de865a50be9e05"
 },
 "nbformat": 3,
 "nbformat_minor": 0,
 "worksheets": [
  {
   "cells": [
    {
     "cell_type": "markdown",
     "metadata": {},
     "source": [
      "# Iterators"
     ]
    },
    {
     "cell_type": "markdown",
     "metadata": {},
     "source": [
      "A concept of iteration over containers is very powerfull. Python defines a protocol how iteration is performed. To see it in action, let's get the ASCII letters and enumarate them.\n",
      "\n",
      "Press shift+enter to execute a cell."
     ]
    },
    {
     "cell_type": "code",
     "collapsed": false,
     "input": [
      "from string import lowercase"
     ],
     "language": "python",
     "metadata": {},
     "outputs": [],
     "prompt_number": 1
    },
    {
     "cell_type": "code",
     "collapsed": false,
     "input": [
      "lowercase"
     ],
     "language": "python",
     "metadata": {},
     "outputs": [
      {
       "metadata": {},
       "output_type": "pyout",
       "prompt_number": 2,
       "text": [
        "'abcdefghijklmnopqrstuvwxyz'"
       ]
      }
     ],
     "prompt_number": 2
    },
    {
     "cell_type": "markdown",
     "metadata": {},
     "source": [
      "``enumerate()`` enumerates a sequence of things. Appending ``?`` of ``??`` to a function, module or an object shows its help message."
     ]
    },
    {
     "cell_type": "code",
     "collapsed": false,
     "input": [
      "enumerate?"
     ],
     "language": "python",
     "metadata": {},
     "outputs": [],
     "prompt_number": 3
    },
    {
     "cell_type": "markdown",
     "metadata": {},
     "source": [
      "Create an iterator"
     ]
    },
    {
     "cell_type": "code",
     "collapsed": false,
     "input": [
      "enumerated_letters = enumerate(lowercase)"
     ],
     "language": "python",
     "metadata": {},
     "outputs": [],
     "prompt_number": 4
    },
    {
     "cell_type": "markdown",
     "metadata": {},
     "source": [
      "``next()`` returns the next value from an iterator, which in case of ``enumerate()`` are ``(index, value)`` pairs."
     ]
    },
    {
     "cell_type": "code",
     "collapsed": false,
     "input": [
      "next(enumerated_letters)"
     ],
     "language": "python",
     "metadata": {},
     "outputs": [
      {
       "metadata": {},
       "output_type": "pyout",
       "prompt_number": 5,
       "text": [
        "(0, 'a')"
       ]
      }
     ],
     "prompt_number": 5
    },
    {
     "cell_type": "code",
     "collapsed": false,
     "input": [
      "next(enumerated_letters)"
     ],
     "language": "python",
     "metadata": {},
     "outputs": [
      {
       "metadata": {},
       "output_type": "pyout",
       "prompt_number": 6,
       "text": [
        "(1, 'b')"
       ]
      }
     ],
     "prompt_number": 6
    },
    {
     "cell_type": "markdown",
     "metadata": {},
     "source": [
      "One way of accessing the values in a tuple is to assign all of them to variables"
     ]
    },
    {
     "cell_type": "code",
     "collapsed": false,
     "input": [
      "position, letter = next(enumerated_letters)"
     ],
     "language": "python",
     "metadata": {},
     "outputs": [],
     "prompt_number": 7
    },
    {
     "cell_type": "markdown",
     "metadata": {},
     "source": [
      "If we need to show something to a user which is a mix of text and data ``.format()`` is handy. Defining a string template with data placesholders and formating it with values avoid string concatenation using ``+``."
     ]
    },
    {
     "cell_type": "code",
     "collapsed": false,
     "input": [
      "'{letter} is enumerated as {position}'.format(letter=letter, position=position)"
     ],
     "language": "python",
     "metadata": {},
     "outputs": [
      {
       "metadata": {},
       "output_type": "pyout",
       "prompt_number": 8,
       "text": [
        "'c is enumerated as 2'"
       ]
      }
     ],
     "prompt_number": 8
    },
    {
     "cell_type": "markdown",
     "metadata": {},
     "source": [
      "In case a sequence of strings has to be joined use ``.join()``."
     ]
    },
    {
     "cell_type": "code",
     "collapsed": false,
     "input": [
      "print ', '.join('{l} is enumerated as {p}'.format(l=l, p=p) for p, l in enumerated_letters)"
     ],
     "language": "python",
     "metadata": {},
     "outputs": [
      {
       "output_type": "stream",
       "stream": "stdout",
       "text": [
        "d is enumerated as 3, e is enumerated as 4, f is enumerated as 5, g is enumerated as 6, h is enumerated as 7, i is enumerated as 8, j is enumerated as 9, k is enumerated as 10, l is enumerated as 11, m is enumerated as 12, n is enumerated as 13, o is enumerated as 14, p is enumerated as 15, q is enumerated as 16, r is enumerated as 17, s is enumerated as 18, t is enumerated as 19, u is enumerated as 20, v is enumerated as 21, w is enumerated as 22, x is enumerated as 23, y is enumerated as 24, z is enumerated as 25\n"
       ]
      }
     ],
     "prompt_number": 9
    },
    {
     "cell_type": "markdown",
     "metadata": {},
     "source": [
      "Once an iterator is exhausted, a ``StopIteration`` exception is raised. However, it's possible to have infinite iterators."
     ]
    },
    {
     "cell_type": "code",
     "collapsed": false,
     "input": [
      "next(enumerated_letters)"
     ],
     "language": "python",
     "metadata": {},
     "outputs": [
      {
       "ename": "StopIteration",
       "evalue": "",
       "output_type": "pyerr",
       "traceback": [
        "\u001b[0;31m---------------------------------------------------------------------------\u001b[0m\n\u001b[0;31mStopIteration\u001b[0m                             Traceback (most recent call last)",
        "\u001b[0;32m<ipython-input-10-6592de41862c>\u001b[0m in \u001b[0;36m<module>\u001b[0;34m()\u001b[0m\n\u001b[0;32m----> 1\u001b[0;31m \u001b[0mnext\u001b[0m\u001b[0;34m(\u001b[0m\u001b[0menumerated_letters\u001b[0m\u001b[0;34m)\u001b[0m\u001b[0;34m\u001b[0m\u001b[0m\n\u001b[0m",
        "\u001b[0;31mStopIteration\u001b[0m: "
       ]
      }
     ],
     "prompt_number": 10
    },
    {
     "cell_type": "markdown",
     "metadata": {},
     "source": [
      "# Bigrams\n",
      "\n",
      "Given a sequence of words (or an iterable), ``bigrams()`` returns (yields) its bigrams. Here is another way of defining an iterator (actually a generator):"
     ]
    },
    {
     "cell_type": "code",
     "collapsed": false,
     "input": [
      "from itertools import chain\n",
      "\n",
      "\n",
      "def bigrams(words):\n",
      "    \"\"\"Bigram generated from a seuence of words.\n",
      "    \n",
      "    :param iter words: the sequence of words\n",
      "    :returns: adjacent word pairs\n",
      "    \n",
      "    \"\"\"\n",
      "    # In the very beginning, ther is no previous word,\n",
      "    # but we start with a bigram (None, words[0]) to\n",
      "    # indicate that words[0] has been seen in the beginning\n",
      "    # of the text.\n",
      "    previous = None\n",
      "    \n",
      "    # We also need to append None to the end of the text.\n",
      "    # itertools.chain chains iterables togetner\n",
      "    # (yes, a list in this regard is an iterable, as a\n",
      "    # string is and many other things.\n",
      "    for word in chain(words, [None]):\n",
      "        # A bigram is a previous word and the current word.\n",
      "        # yield is used to pause an iterator, \"return\" a value\n",
      "        # to the caller code and restore callers execution.\n",
      "        yield previous, word\n",
      "        \n",
      "        previous = word\n",
      "        "
     ],
     "language": "python",
     "metadata": {},
     "outputs": [],
     "prompt_number": 11
    },
    {
     "cell_type": "markdown",
     "metadata": {},
     "source": [
      "Check wheter it works. Note that we don't actually care wheter words is a seuence of strings, it might be a seuence of anything."
     ]
    },
    {
     "cell_type": "code",
     "collapsed": false,
     "input": [
      "list(bigrams([1, 2, 3, 4]))"
     ],
     "language": "python",
     "metadata": {},
     "outputs": [
      {
       "metadata": {},
       "output_type": "pyout",
       "prompt_number": 12,
       "text": [
        "[(None, 1), (1, 2), (2, 3), (3, 4), (4, None)]"
       ]
      }
     ],
     "prompt_number": 12
    },
    {
     "cell_type": "markdown",
     "metadata": {},
     "source": [
      "# N-grams\n",
      "\n",
      "It would be cool to have a general generator for n-grams."
     ]
    },
    {
     "cell_type": "code",
     "collapsed": false,
     "input": [
      "from collections import deque\n",
      "\n",
      "\n",
      "def ngrams(words, ngram_len=2):\n",
      "    \"\"\"Generate ngrmas from a sequence of word.\n",
      "    \n",
      "    :param iter words: the sequence of words\n",
      "    :param int ngram_len: the lenght of the ngrams to be generated\n",
      "    \n",
      "    :returns: ngrams\n",
      "    \n",
      "    \"\"\"\n",
      "    # collecions.deque might be seen as a list of limited size.\n",
      "    # If an element apended when a deque is full, the elements\n",
      "    # from the other side of the deque is removed keeping the\n",
      "    # constant length of the deque.\n",
      "    #\n",
      "    # Addend dummy tokens marking the beginning of the sequence.\n",
      "    ngram = deque([None] * ngram_len, maxlen=ngram_len)\n",
      "    \n",
      "    for word in chain(words, [None] * (ngram_len - 1)):\n",
      "        ngram.append(word)\n",
      "        yield tuple(ngram)"
     ],
     "language": "python",
     "metadata": {},
     "outputs": [],
     "prompt_number": 13
    },
    {
     "cell_type": "code",
     "collapsed": false,
     "input": [
      "list(ngrams('abcd', ngram_len=3))"
     ],
     "language": "python",
     "metadata": {},
     "outputs": [
      {
       "metadata": {},
       "output_type": "pyout",
       "prompt_number": 14,
       "text": [
        "[(None, None, 'a'),\n",
        " (None, 'a', 'b'),\n",
        " ('a', 'b', 'c'),\n",
        " ('b', 'c', 'd'),\n",
        " ('c', 'd', None),\n",
        " ('d', None, None)]"
       ]
      }
     ],
     "prompt_number": 14
    },
    {
     "cell_type": "markdown",
     "metadata": {},
     "source": [
      "# Read a file word by word\n",
      "\n",
      "We have a generator that produces ngrmas, but we are not able to get a sequence of words from a corpus, which so far is just a text file."
     ]
    },
    {
     "cell_type": "code",
     "collapsed": false,
     "input": [
      "def read_words(f_name):\n",
      "    \"\"\"Read a file word by word.\"\"\"\n",
      "    with open(f_name) as f:\n",
      "        for line in f:\n",
      "            line.strip()\n",
      "            \n",
      "            # Tokenization is a difficult task,\n",
      "            # a word is anythin between two spaces.\n",
      "            for word in line.split():\n",
      "                yield word\n"
     ],
     "language": "python",
     "metadata": {},
     "outputs": [],
     "prompt_number": 1
    },
    {
     "cell_type": "markdown",
     "metadata": {},
     "source": [
      "Let's use  Alice's Adventures in Wonderland by Lewis Carroll as a corpus.\n",
      "\n",
      "Some other books are:\n",
      "\n",
      "* War and Peace by graf Leo Tolstoy http://eecs.io/static/notebooks/pg2600.txt 65007 words\n",
      "* Crime and Punishment by Fyodor Dostoyevsky http://eecs.io/static/notebooks/pg2554.txt 22456 words\n",
      "* Alice's Adventures in Wonderland by Lewis Carroll http://eecs.io/static/notebooks/pg11.txt 3735 words\n",
      "\n",
      "We download it from the Internet ..."
     ]
    },
    {
     "cell_type": "code",
     "collapsed": false,
     "input": [
      "from urllib import urlretrieve\n",
      "\n",
      "\n",
      "f_name, _ = urlretrieve('http://eecs.io/static/notebooks/pg2600.txt')"
     ],
     "language": "python",
     "metadata": {},
     "outputs": [],
     "prompt_number": 119
    },
    {
     "cell_type": "markdown",
     "metadata": {},
     "source": [
      "... and store it somewhere"
     ]
    },
    {
     "cell_type": "code",
     "collapsed": false,
     "input": [
      "f_name"
     ],
     "language": "python",
     "metadata": {},
     "outputs": [
      {
       "metadata": {},
       "output_type": "pyout",
       "prompt_number": 120,
       "text": [
        "'/var/folders/j5/m6pcb_9n6c1gqssrbtzmdmcc0000gn/T/tmpPASvaY.txt'"
       ]
      }
     ],
     "prompt_number": 120
    },
    {
     "cell_type": "markdown",
     "metadata": {},
     "source": [
      "Now we are ready to get a sequence of words from the corpus. It's too big to be shown here, so ony 10 words are shown."
     ]
    },
    {
     "cell_type": "code",
     "collapsed": false,
     "input": [
      "from itertools import islice\n",
      "\n",
      "\n",
      "print ' '.join(islice(read_words(f_name), 10))"
     ],
     "language": "python",
     "metadata": {},
     "outputs": [
      {
       "output_type": "stream",
       "stream": "stdout",
       "text": [
        "\ufeffThe Project Gutenberg EBook of War and Peace, by Leo\n"
       ]
      }
     ],
     "prompt_number": 121
    },
    {
     "cell_type": "markdown",
     "metadata": {},
     "source": [
      "We can chain iterators as processing block of the information flow."
     ]
    },
    {
     "cell_type": "code",
     "collapsed": false,
     "input": [
      "for w1, w2 in islice(bigrams(read_words(f_name)), 10):\n",
      "    print w1, w2"
     ],
     "language": "python",
     "metadata": {},
     "outputs": [
      {
       "output_type": "stream",
       "stream": "stdout",
       "text": [
        "None \ufeffThe\n",
        "\ufeffThe Project\n",
        "Project Gutenberg\n",
        "Gutenberg EBook\n",
        "EBook of\n",
        "of War\n",
        "War and\n",
        "and Peace,\n",
        "Peace, by\n",
        "by Leo\n"
       ]
      }
     ],
     "prompt_number": 122
    },
    {
     "cell_type": "markdown",
     "metadata": {},
     "source": [
      "## Task\n",
      "\n",
      "Even though ```read_words()``` tokenizaion is very simple, we can filter out non letters. Lowercase words might be a good idea as well."
     ]
    },
    {
     "cell_type": "code",
     "collapsed": false,
     "input": [
      "def clean_words(words):\n",
      "    \"\"\"Filter out punctuation marks and other symbols from words.\n",
      "    \n",
      "    :param iter words: an iterable of words.\n",
      "    \n",
      "    :return: cleaned up words.\n",
      "    \n",
      "    \"\"\"\n",
      "    for word in words:\n",
      "        return word.lower()"
     ],
     "language": "python",
     "metadata": {},
     "outputs": [],
     "prompt_number": 123
    },
    {
     "cell_type": "markdown",
     "metadata": {},
     "source": [
      "# Counting ngrams\n",
      "\n",
      "It would be cool if we managed to pump the bigrams to a database. Then counting elements would be a metter of seconds (given that you know SQL. Luckily, there is Pandas which let process data frames (tables) the way we want http://pandas.pydata.org/pandas-docs/stable/groupby.html."
     ]
    },
    {
     "cell_type": "code",
     "collapsed": false,
     "input": [
      "import pandas as pd"
     ],
     "language": "python",
     "metadata": {},
     "outputs": [],
     "prompt_number": 124
    },
    {
     "cell_type": "code",
     "collapsed": false,
     "input": [
      "pd.DataFrame?"
     ],
     "language": "python",
     "metadata": {},
     "outputs": [],
     "prompt_number": 125
    },
    {
     "cell_type": "code",
     "collapsed": false,
     "input": [
      "bigram_frame = pd.DataFrame(ngrams(clean_words(read_words(f_name), ngram_len=2)), columns=('Word 1', 'Word 2'))"
     ],
     "language": "python",
     "metadata": {},
     "outputs": [],
     "prompt_number": 126
    },
    {
     "cell_type": "code",
     "collapsed": false,
     "input": [
      "bigram_frame.head()"
     ],
     "language": "python",
     "metadata": {},
     "outputs": [
      {
       "html": [
        "<div style=\"max-height:1000px;max-width:1500px;overflow:auto;\">\n",
        "<table border=\"1\" class=\"dataframe\">\n",
        "  <thead>\n",
        "    <tr style=\"text-align: right;\">\n",
        "      <th></th>\n",
        "      <th>Word 1</th>\n",
        "      <th>Word 2</th>\n",
        "    </tr>\n",
        "  </thead>\n",
        "  <tbody>\n",
        "    <tr>\n",
        "      <th>0</th>\n",
        "      <td>      None</td>\n",
        "      <td>      \ufeffThe</td>\n",
        "    </tr>\n",
        "    <tr>\n",
        "      <th>1</th>\n",
        "      <td>      \ufeffThe</td>\n",
        "      <td>   Project</td>\n",
        "    </tr>\n",
        "    <tr>\n",
        "      <th>2</th>\n",
        "      <td>   Project</td>\n",
        "      <td> Gutenberg</td>\n",
        "    </tr>\n",
        "    <tr>\n",
        "      <th>3</th>\n",
        "      <td> Gutenberg</td>\n",
        "      <td>     EBook</td>\n",
        "    </tr>\n",
        "    <tr>\n",
        "      <th>4</th>\n",
        "      <td>     EBook</td>\n",
        "      <td>        of</td>\n",
        "    </tr>\n",
        "  </tbody>\n",
        "</table>\n",
        "</div>"
       ],
       "metadata": {},
       "output_type": "pyout",
       "prompt_number": 127,
       "text": [
        "      Word 1     Word 2\n",
        "0       None       \ufeffThe\n",
        "1       \ufeffThe    Project\n",
        "2    Project  Gutenberg\n",
        "3  Gutenberg      EBook\n",
        "4      EBook         of"
       ]
      }
     ],
     "prompt_number": 127
    },
    {
     "cell_type": "markdown",
     "metadata": {},
     "source": [
      "Count unique bigrams"
     ]
    },
    {
     "cell_type": "code",
     "collapsed": false,
     "input": [
      "bigram_frame['count'] = 1  # Create a new column"
     ],
     "language": "python",
     "metadata": {},
     "outputs": [],
     "prompt_number": 128
    },
    {
     "cell_type": "code",
     "collapsed": false,
     "input": [
      "bigram_counts = bigram_frame.groupby(('Word 1', 'Word 2')).sum()"
     ],
     "language": "python",
     "metadata": {},
     "outputs": [],
     "prompt_number": 129
    },
    {
     "cell_type": "code",
     "collapsed": false,
     "input": [
      "bigram_counts.sort('count', ascending=False, inplace=True)"
     ],
     "language": "python",
     "metadata": {},
     "outputs": [],
     "prompt_number": 130
    },
    {
     "cell_type": "code",
     "collapsed": false,
     "input": [
      "bigram_counts.head()"
     ],
     "language": "python",
     "metadata": {},
     "outputs": [
      {
       "html": [
        "<div style=\"max-height:1000px;max-width:1500px;overflow:auto;\">\n",
        "<table border=\"1\" class=\"dataframe\">\n",
        "  <thead>\n",
        "    <tr style=\"text-align: right;\">\n",
        "      <th></th>\n",
        "      <th></th>\n",
        "      <th>count</th>\n",
        "    </tr>\n",
        "    <tr>\n",
        "      <th>Word 1</th>\n",
        "      <th>Word 2</th>\n",
        "      <th></th>\n",
        "    </tr>\n",
        "  </thead>\n",
        "  <tbody>\n",
        "    <tr>\n",
        "      <th>of</th>\n",
        "      <th>the</th>\n",
        "      <td> 4037</td>\n",
        "    </tr>\n",
        "    <tr>\n",
        "      <th>to</th>\n",
        "      <th>the</th>\n",
        "      <td> 2277</td>\n",
        "    </tr>\n",
        "    <tr>\n",
        "      <th>in</th>\n",
        "      <th>the</th>\n",
        "      <td> 2109</td>\n",
        "    </tr>\n",
        "    <tr>\n",
        "      <th>and</th>\n",
        "      <th>the</th>\n",
        "      <td> 1382</td>\n",
        "    </tr>\n",
        "    <tr>\n",
        "      <th>at</th>\n",
        "      <th>the</th>\n",
        "      <td> 1247</td>\n",
        "    </tr>\n",
        "  </tbody>\n",
        "</table>\n",
        "</div>"
       ],
       "metadata": {},
       "output_type": "pyout",
       "prompt_number": 131,
       "text": [
        "               count\n",
        "Word 1 Word 2       \n",
        "of     the      4037\n",
        "to     the      2277\n",
        "in     the      2109\n",
        "and    the      1382\n",
        "at     the      1247"
       ]
      }
     ],
     "prompt_number": 131
    },
    {
     "cell_type": "markdown",
     "metadata": {},
     "source": [
      "# Dictionary size"
     ]
    },
    {
     "cell_type": "code",
     "collapsed": false,
     "input": [
      "dictionary = pd.DataFrame(clean_words(read_words(f_name)), columns=('Word', ))"
     ],
     "language": "python",
     "metadata": {},
     "outputs": [],
     "prompt_number": 132
    },
    {
     "cell_type": "code",
     "collapsed": false,
     "input": [
      "dictionary['count'] = 1"
     ],
     "language": "python",
     "metadata": {},
     "outputs": [],
     "prompt_number": 133
    },
    {
     "cell_type": "code",
     "collapsed": false,
     "input": [
      "dictionary = dictionary.groupby('Word').sum().sort('count', ascending=False)"
     ],
     "language": "python",
     "metadata": {},
     "outputs": [],
     "prompt_number": 134
    },
    {
     "cell_type": "code",
     "collapsed": false,
     "input": [
      "len(dictionary)"
     ],
     "language": "python",
     "metadata": {},
     "outputs": [
      {
       "metadata": {},
       "output_type": "pyout",
       "prompt_number": 135,
       "text": [
        "42066"
       ]
      }
     ],
     "prompt_number": 135
    },
    {
     "cell_type": "code",
     "collapsed": false,
     "input": [
      "dictionary.head()"
     ],
     "language": "python",
     "metadata": {},
     "outputs": [
      {
       "html": [
        "<div style=\"max-height:1000px;max-width:1500px;overflow:auto;\">\n",
        "<table border=\"1\" class=\"dataframe\">\n",
        "  <thead>\n",
        "    <tr style=\"text-align: right;\">\n",
        "      <th></th>\n",
        "      <th>count</th>\n",
        "    </tr>\n",
        "    <tr>\n",
        "      <th>Word</th>\n",
        "      <th></th>\n",
        "    </tr>\n",
        "  </thead>\n",
        "  <tbody>\n",
        "    <tr>\n",
        "      <th>the</th>\n",
        "      <td> 31708</td>\n",
        "    </tr>\n",
        "    <tr>\n",
        "      <th>and</th>\n",
        "      <td> 20570</td>\n",
        "    </tr>\n",
        "    <tr>\n",
        "      <th>to</th>\n",
        "      <td> 16322</td>\n",
        "    </tr>\n",
        "    <tr>\n",
        "      <th>of</th>\n",
        "      <td> 14854</td>\n",
        "    </tr>\n",
        "    <tr>\n",
        "      <th>a</th>\n",
        "      <td> 10040</td>\n",
        "    </tr>\n",
        "  </tbody>\n",
        "</table>\n",
        "</div>"
       ],
       "metadata": {},
       "output_type": "pyout",
       "prompt_number": 136,
       "text": [
        "      count\n",
        "Word       \n",
        "the   31708\n",
        "and   20570\n",
        "to    16322\n",
        "of    14854\n",
        "a     10040"
       ]
      }
     ],
     "prompt_number": 136
    },
    {
     "cell_type": "code",
     "collapsed": false,
     "input": [
      "dictionary.plot().loglog()  # Check out Seaborn http://web.stanford.edu/~mwaskom/software/seaborn/ to get nicer plots."
     ],
     "language": "python",
     "metadata": {},
     "outputs": [
      {
       "metadata": {},
       "output_type": "pyout",
       "prompt_number": 137,
       "text": [
        "[]"
       ]
      },
      {
       "metadata": {},
       "output_type": "display_data",
       "png": "[encoded data removed]",
       "text": [
        "<matplotlib.figure.Figure at 0x1152a9ed0>"
       ]
      }
     ],
     "prompt_number": 137
    },
    {
     "cell_type": "markdown",
     "metadata": {},
     "source": [
      "# Count bigrams that were seen more than n times"
     ]
    },
    {
     "cell_type": "code",
     "collapsed": false,
     "input": [
      "len(bigram_counts[bigram_counts['count'] > 5])"
     ],
     "language": "python",
     "metadata": {},
     "outputs": [
      {
       "metadata": {},
       "output_type": "pyout",
       "prompt_number": 138,
       "text": [
        "11800"
       ]
      }
     ],
     "prompt_number": 138
    },
    {
     "cell_type": "code",
     "collapsed": false,
     "input": [
      "len(bigram_counts[bigram_counts['count'] > 4])"
     ],
     "language": "python",
     "metadata": {},
     "outputs": [
      {
       "metadata": {},
       "output_type": "pyout",
       "prompt_number": 139,
       "text": [
        "14918"
       ]
      }
     ],
     "prompt_number": 139
    },
    {
     "cell_type": "markdown",
     "metadata": {},
     "source": [
      "# Joint probability"
     ]
    },
    {
     "cell_type": "code",
     "collapsed": false,
     "input": [
      "bigram_counts['Joint probability'] = bigram_counts['count'] / bigram_counts['count'].sum()"
     ],
     "language": "python",
     "metadata": {},
     "outputs": [],
     "prompt_number": 140
    },
    {
     "cell_type": "code",
     "collapsed": false,
     "input": [
      "bigram_counts.head()"
     ],
     "language": "python",
     "metadata": {},
     "outputs": [
      {
       "html": [
        "<div style=\"max-height:1000px;max-width:1500px;overflow:auto;\">\n",
        "<table border=\"1\" class=\"dataframe\">\n",
        "  <thead>\n",
        "    <tr style=\"text-align: right;\">\n",
        "      <th></th>\n",
        "      <th></th>\n",
        "      <th>count</th>\n",
        "      <th>Joint probability</th>\n",
        "    </tr>\n",
        "    <tr>\n",
        "      <th>Word 1</th>\n",
        "      <th>Word 2</th>\n",
        "      <th></th>\n",
        "      <th></th>\n",
        "    </tr>\n",
        "  </thead>\n",
        "  <tbody>\n",
        "    <tr>\n",
        "      <th>of</th>\n",
        "      <th>the</th>\n",
        "      <td> 4037</td>\n",
        "      <td> 0.007129</td>\n",
        "    </tr>\n",
        "    <tr>\n",
        "      <th>to</th>\n",
        "      <th>the</th>\n",
        "      <td> 2277</td>\n",
        "      <td> 0.004021</td>\n",
        "    </tr>\n",
        "    <tr>\n",
        "      <th>in</th>\n",
        "      <th>the</th>\n",
        "      <td> 2109</td>\n",
        "      <td> 0.003724</td>\n",
        "    </tr>\n",
        "    <tr>\n",
        "      <th>and</th>\n",
        "      <th>the</th>\n",
        "      <td> 1382</td>\n",
        "      <td> 0.002440</td>\n",
        "    </tr>\n",
        "    <tr>\n",
        "      <th>at</th>\n",
        "      <th>the</th>\n",
        "      <td> 1247</td>\n",
        "      <td> 0.002202</td>\n",
        "    </tr>\n",
        "  </tbody>\n",
        "</table>\n",
        "</div>"
       ],
       "metadata": {},
       "output_type": "pyout",
       "prompt_number": 141,
       "text": [
        "               count  Joint probability\n",
        "Word 1 Word 2                          \n",
        "of     the      4037           0.007129\n",
        "to     the      2277           0.004021\n",
        "in     the      2109           0.003724\n",
        "and    the      1382           0.002440\n",
        "at     the      1247           0.002202"
       ]
      }
     ],
     "prompt_number": 141
    },
    {
     "cell_type": "code",
     "collapsed": false,
     "input": [
      "bigram_counts.loc['to'].head()"
     ],
     "language": "python",
     "metadata": {},
     "outputs": [
      {
       "html": [
        "<div style=\"max-height:1000px;max-width:1500px;overflow:auto;\">\n",
        "<table border=\"1\" class=\"dataframe\">\n",
        "  <thead>\n",
        "    <tr style=\"text-align: right;\">\n",
        "      <th></th>\n",
        "      <th>count</th>\n",
        "      <th>Joint probability</th>\n",
        "    </tr>\n",
        "    <tr>\n",
        "      <th>Word 2</th>\n",
        "      <th></th>\n",
        "      <th></th>\n",
        "    </tr>\n",
        "  </thead>\n",
        "  <tbody>\n",
        "    <tr>\n",
        "      <th>the</th>\n",
        "      <td> 2277</td>\n",
        "      <td> 0.004021</td>\n",
        "    </tr>\n",
        "    <tr>\n",
        "      <th>be</th>\n",
        "      <td>  729</td>\n",
        "      <td> 0.001287</td>\n",
        "    </tr>\n",
        "    <tr>\n",
        "      <th>his</th>\n",
        "      <td>  469</td>\n",
        "      <td> 0.000828</td>\n",
        "    </tr>\n",
        "    <tr>\n",
        "      <th>him</th>\n",
        "      <td>  398</td>\n",
        "      <td> 0.000703</td>\n",
        "    </tr>\n",
        "    <tr>\n",
        "      <th>her</th>\n",
        "      <td>  330</td>\n",
        "      <td> 0.000583</td>\n",
        "    </tr>\n",
        "  </tbody>\n",
        "</table>\n",
        "</div>"
       ],
       "metadata": {},
       "output_type": "pyout",
       "prompt_number": 142,
       "text": [
        "        count  Joint probability\n",
        "Word 2                          \n",
        "the      2277           0.004021\n",
        "be        729           0.001287\n",
        "his       469           0.000828\n",
        "him       398           0.000703\n",
        "her       330           0.000583"
       ]
      }
     ],
     "prompt_number": 142
    },
    {
     "cell_type": "markdown",
     "metadata": {},
     "source": [
      "# Condiitonal probability"
     ]
    },
    {
     "cell_type": "code",
     "collapsed": false,
     "input": [
      "bigram_counts.head()"
     ],
     "language": "python",
     "metadata": {},
     "outputs": [
      {
       "html": [
        "<div style=\"max-height:1000px;max-width:1500px;overflow:auto;\">\n",
        "<table border=\"1\" class=\"dataframe\">\n",
        "  <thead>\n",
        "    <tr style=\"text-align: right;\">\n",
        "      <th></th>\n",
        "      <th></th>\n",
        "      <th>count</th>\n",
        "      <th>Joint probability</th>\n",
        "    </tr>\n",
        "    <tr>\n",
        "      <th>Word 1</th>\n",
        "      <th>Word 2</th>\n",
        "      <th></th>\n",
        "      <th></th>\n",
        "    </tr>\n",
        "  </thead>\n",
        "  <tbody>\n",
        "    <tr>\n",
        "      <th>of</th>\n",
        "      <th>the</th>\n",
        "      <td> 4037</td>\n",
        "      <td> 0.007129</td>\n",
        "    </tr>\n",
        "    <tr>\n",
        "      <th>to</th>\n",
        "      <th>the</th>\n",
        "      <td> 2277</td>\n",
        "      <td> 0.004021</td>\n",
        "    </tr>\n",
        "    <tr>\n",
        "      <th>in</th>\n",
        "      <th>the</th>\n",
        "      <td> 2109</td>\n",
        "      <td> 0.003724</td>\n",
        "    </tr>\n",
        "    <tr>\n",
        "      <th>and</th>\n",
        "      <th>the</th>\n",
        "      <td> 1382</td>\n",
        "      <td> 0.002440</td>\n",
        "    </tr>\n",
        "    <tr>\n",
        "      <th>at</th>\n",
        "      <th>the</th>\n",
        "      <td> 1247</td>\n",
        "      <td> 0.002202</td>\n",
        "    </tr>\n",
        "  </tbody>\n",
        "</table>\n",
        "</div>"
       ],
       "metadata": {},
       "output_type": "pyout",
       "prompt_number": 143,
       "text": [
        "               count  Joint probability\n",
        "Word 1 Word 2                          \n",
        "of     the      4037           0.007129\n",
        "to     the      2277           0.004021\n",
        "in     the      2109           0.003724\n",
        "and    the      1382           0.002440\n",
        "at     the      1247           0.002202"
       ]
      }
     ],
     "prompt_number": 143
    },
    {
     "cell_type": "code",
     "collapsed": false,
     "input": [
      "bigram_counts['Word 1 count'] = dictionary.loc[bigram_counts.index.get_level_values('Word 1')]['count'].values"
     ],
     "language": "python",
     "metadata": {},
     "outputs": [],
     "prompt_number": 144
    },
    {
     "cell_type": "code",
     "collapsed": false,
     "input": [
      "bigram_counts['Conditional probability'] = bigram_counts['count'] / bigram_counts['Word 1 count']"
     ],
     "language": "python",
     "metadata": {},
     "outputs": [],
     "prompt_number": 145
    },
    {
     "cell_type": "code",
     "collapsed": false,
     "input": [
      "bigram_counts.loc['she'].sort('Conditional probability', ascending=False).head()"
     ],
     "language": "python",
     "metadata": {},
     "outputs": [
      {
       "html": [
        "<div style=\"max-height:1000px;max-width:1500px;overflow:auto;\">\n",
        "<table border=\"1\" class=\"dataframe\">\n",
        "  <thead>\n",
        "    <tr style=\"text-align: right;\">\n",
        "      <th></th>\n",
        "      <th>count</th>\n",
        "      <th>Joint probability</th>\n",
        "      <th>Word 1 count</th>\n",
        "      <th>Conditional probability</th>\n",
        "    </tr>\n",
        "    <tr>\n",
        "      <th>Word 2</th>\n",
        "      <th></th>\n",
        "      <th></th>\n",
        "      <th></th>\n",
        "      <th></th>\n",
        "    </tr>\n",
        "  </thead>\n",
        "  <tbody>\n",
        "    <tr>\n",
        "      <th>had</th>\n",
        "      <td> 306</td>\n",
        "      <td> 0.000540</td>\n",
        "      <td> 2540</td>\n",
        "      <td> 0.120472</td>\n",
        "    </tr>\n",
        "    <tr>\n",
        "      <th>was</th>\n",
        "      <td> 231</td>\n",
        "      <td> 0.000408</td>\n",
        "      <td> 2540</td>\n",
        "      <td> 0.090945</td>\n",
        "    </tr>\n",
        "    <tr>\n",
        "      <th>said</th>\n",
        "      <td>  84</td>\n",
        "      <td> 0.000148</td>\n",
        "      <td> 2540</td>\n",
        "      <td> 0.033071</td>\n",
        "    </tr>\n",
        "    <tr>\n",
        "      <th>could</th>\n",
        "      <td>  72</td>\n",
        "      <td> 0.000127</td>\n",
        "      <td> 2540</td>\n",
        "      <td> 0.028346</td>\n",
        "    </tr>\n",
        "    <tr>\n",
        "      <th>did</th>\n",
        "      <td>  69</td>\n",
        "      <td> 0.000122</td>\n",
        "      <td> 2540</td>\n",
        "      <td> 0.027165</td>\n",
        "    </tr>\n",
        "  </tbody>\n",
        "</table>\n",
        "</div>"
       ],
       "metadata": {},
       "output_type": "pyout",
       "prompt_number": 149,
       "text": [
        "        count  Joint probability  Word 1 count  Conditional probability\n",
        "Word 2                                                                 \n",
        "had       306           0.000540          2540                 0.120472\n",
        "was       231           0.000408          2540                 0.090945\n",
        "said       84           0.000148          2540                 0.033071\n",
        "could      72           0.000127          2540                 0.028346\n",
        "did        69           0.000122          2540                 0.027165"
       ]
      }
     ],
     "prompt_number": 149
    },
    {
     "cell_type": "code",
     "collapsed": false,
     "input": [],
     "language": "python",
     "metadata": {},
     "outputs": [],
     "prompt_number": 146
    }
   ],
   "metadata": {}
  }
 ]
}